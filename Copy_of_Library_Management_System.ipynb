{
  "nbformat": 4,
  "nbformat_minor": 0,
  "metadata": {
    "colab": {
      "provenance": [],
      "authorship_tag": "ABX9TyPhIRklIRkpbbqldo8MqsBy",
      "include_colab_link": true
    },
    "kernelspec": {
      "name": "python3",
      "display_name": "Python 3"
    },
    "language_info": {
      "name": "python"
    }
  },
  "cells": [
    {
      "cell_type": "markdown",
      "metadata": {
        "id": "view-in-github",
        "colab_type": "text"
      },
      "source": [
        "<a href=\"https://colab.research.google.com/github/Navya-0505/simple_calculator/blob/main/Copy_of_Library_Management_System.ipynb\" target=\"_parent\"><img src=\"https://colab.research.google.com/assets/colab-badge.svg\" alt=\"Open In Colab\"/></a>"
      ]
    },
    {
      "cell_type": "code",
      "execution_count": null,
      "metadata": {
        "id": "vbijNvNdKlO-"
      },
      "outputs": [],
      "source": [
        "class Library:\n",
        "    def __init__(self):\n",
        "        self.books = []  # List to store books\n",
        "\n",
        "    def add_book(self, book):\n",
        "        self.books.append(book)\n",
        "        print(f'Book \"{book}\" added to the library.')\n",
        "\n",
        "    def display_books(self):\n",
        "        if not self.books:\n",
        "            print(\"No books available.\")\n",
        "        else:\n",
        "            print(\"Available Books:\")\n",
        "            for book in self.books:\n",
        "                print(f\" - {book}\")\n",
        "\n",
        "    def borrow_book(self, book):\n",
        "        if book in self.books:\n",
        "            self.books.remove(book)\n",
        "            print(f'You have borrowed \"{book}\".')\n",
        "        else:\n",
        "            print(f'Sorry, \"{book}\" is not available.')\n",
        "\n",
        "    def return_book(self, book):\n",
        "        self.books.append(book)\n",
        "        print(f'Thank you for returning \"{book}\".')"
      ]
    },
    {
      "cell_type": "code",
      "source": [
        "class User:\n",
        "    def __init__(self, name):\n",
        "        self.name = name\n",
        "        self.borrowed_books = []\n",
        "\n",
        "    def borrow_book(self, library, book):\n",
        "        if book in library.books:\n",
        "            library.borrow_book(book)\n",
        "            self.borrowed_books.append(book)\n",
        "        else:\n",
        "            print(f'Sorry, \"{book}\" is not available.')\n",
        "\n",
        "    def return_book(self, library, book):\n",
        "        if book in self.borrowed_books:\n",
        "            self.borrowed_books.remove(book)\n",
        "            library.return_book(book)\n",
        "        else:\n",
        "            print(f'You do not have \"{book}\" to return.')"
      ],
      "metadata": {
        "id": "zHfkzw-RKqhm"
      },
      "execution_count": null,
      "outputs": []
    },
    {
      "cell_type": "code",
      "source": [
        "def main():\n",
        "    library = Library()\n",
        "    user = User(\"Alice\")  # Example user\n",
        "\n",
        "    while True:\n",
        "        print(\"\\n📚 Library Menu:\")\n",
        "        print(\"1. Add Book\")\n",
        "        print(\"2. Display Books\")\n",
        "        print(\"3. Borrow Book\")\n",
        "        print(\"4. Return Book\")\n",
        "        print(\"5. Exit\")\n",
        "\n",
        "        choice = input(\"Enter your choice: \")\n",
        "\n",
        "        if choice == \"1\":\n",
        "            book = input(\"Enter book name: \")\n",
        "            library.add_book(book)\n",
        "\n",
        "        elif choice == \"2\":\n",
        "            library.display_books()\n",
        "\n",
        "        elif choice == \"3\":\n",
        "            book = input(\"Enter book name to borrow: \")\n",
        "            user.borrow_book(library, book)\n",
        "\n",
        "        elif choice == \"4\":\n",
        "            book = input(\"Enter book name to return: \")\n",
        "            user.return_book(library, book)\n",
        "\n",
        "        elif choice == \"5\":\n",
        "            print(\"Exiting the Library System. Goodbye! 👋\")\n",
        "            break\n",
        "\n",
        "        else:\n",
        "            print(\"Invalid choice. Please try again.\")\n",
        "\n",
        "# Run the program\n",
        "if __name__ == \"__main__\":\n",
        "    main()"
      ],
      "metadata": {
        "colab": {
          "base_uri": "https://localhost:8080/"
        },
        "id": "2BNxtK5IK3gG",
        "outputId": "6797bfdd-f129-4e2b-afbe-8436c949c97c"
      },
      "execution_count": null,
      "outputs": [
        {
          "output_type": "stream",
          "name": "stdout",
          "text": [
            "\n",
            "📚 Library Menu:\n",
            "1. Add Book\n",
            "2. Display Books\n",
            "3. Borrow Book\n",
            "4. Return Book\n",
            "5. Exit\n",
            "Enter your choice: 1\n",
            "Enter book name: harry potter\n",
            "Book \"harry potter\" added to the library.\n",
            "\n",
            "📚 Library Menu:\n",
            "1. Add Book\n",
            "2. Display Books\n",
            "3. Borrow Book\n",
            "4. Return Book\n",
            "5. Exit\n",
            "Enter your choice: 2\n",
            "Available Books:\n",
            " - harry potter\n",
            "\n",
            "📚 Library Menu:\n",
            "1. Add Book\n",
            "2. Display Books\n",
            "3. Borrow Book\n",
            "4. Return Book\n",
            "5. Exit\n",
            "Enter your choice: 3\n",
            "Enter book name to borrow: harry potter\n",
            "You have borrowed \"harry potter\".\n",
            "\n",
            "📚 Library Menu:\n",
            "1. Add Book\n",
            "2. Display Books\n",
            "3. Borrow Book\n",
            "4. Return Book\n",
            "5. Exit\n",
            "Enter your choice: 5\n",
            "Exiting the Library System. Goodbye! 👋\n"
          ]
        }
      ]
    }
  ]
}