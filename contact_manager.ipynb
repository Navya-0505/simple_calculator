{
  "nbformat": 4,
  "nbformat_minor": 0,
  "metadata": {
    "colab": {
      "provenance": [],
      "authorship_tag": "ABX9TyMERgCDBb7ABA5DIzUtayH6",
      "include_colab_link": true
    },
    "kernelspec": {
      "name": "python3",
      "display_name": "Python 3"
    },
    "language_info": {
      "name": "python"
    }
  },
  "cells": [
    {
      "cell_type": "markdown",
      "metadata": {
        "id": "view-in-github",
        "colab_type": "text"
      },
      "source": [
        "<a href=\"https://colab.research.google.com/github/Navya-0505/simple_calculator/blob/main/contact_manager.ipynb\" target=\"_parent\"><img src=\"https://colab.research.google.com/assets/colab-badge.svg\" alt=\"Open In Colab\"/></a>"
      ]
    },
    {
      "cell_type": "code",
      "execution_count": 1,
      "metadata": {
        "id": "nPRZK6zEGm2u"
      },
      "outputs": [],
      "source": [
        "import csv\n",
        "import json\n",
        "import sqlite3\n",
        "from openpyxl import Workbook, load_workbook\n",
        "\n",
        "# Sample data\n",
        "contacts = [\n",
        "    {\"name\": \"Alice\", \"phone\": \"1234567890\", \"email\": \"alice@example.com\"},\n",
        "    {\"name\": \"Bob\", \"phone\": \"0987654321\", \"email\": \"bob@example.com\"},\n",
        "]\n",
        "\n"
      ]
    },
    {
      "cell_type": "code",
      "source": [
        "# --- 1. Save to Text File ---\n",
        "def save_to_txt():\n",
        "    with open(\"contacts.txt\", \"w\") as file:\n",
        "        for contact in contacts:\n",
        "            file.write(f\"{contact['name']},{contact['phone']},{contact['email']}\\n\")\n"
      ],
      "metadata": {
        "id": "07AbJDqsIPGV"
      },
      "execution_count": 2,
      "outputs": []
    },
    {
      "cell_type": "code",
      "source": [
        "# --- 2. Save to CSV File ---\n",
        "def save_to_csv():\n",
        "    with open(\"contacts.csv\", \"w\", newline='') as file:\n",
        "        writer = csv.DictWriter(file, fieldnames=[\"name\", \"phone\", \"email\"])\n",
        "        writer.writeheader()\n",
        "        writer.writerows(contacts)"
      ],
      "metadata": {
        "id": "vTEKRSMYIYhg"
      },
      "execution_count": 3,
      "outputs": []
    },
    {
      "cell_type": "code",
      "source": [
        "# --- 3. Save to JSON File ---\n",
        "def save_to_json():\n",
        "    with open(\"contacts.json\", \"w\") as file:\n",
        "        json.dump(contacts, file, indent=4)"
      ],
      "metadata": {
        "id": "_WdCEVagIf01"
      },
      "execution_count": 4,
      "outputs": []
    },
    {
      "cell_type": "code",
      "source": [
        "# --- 4. Save to Excel File ---\n",
        "def save_to_excel():\n",
        "    wb = Workbook()\n",
        "    ws = wb.active\n",
        "    ws.title = \"Contacts\"\n",
        "    ws.append([\"Name\", \"Phone\", \"Email\"])\n",
        "    for contact in contacts:\n",
        "        ws.append([contact[\"name\"], contact[\"phone\"], contact[\"email\"]])\n",
        "    wb.save(\"contacts.xlsx\")\n"
      ],
      "metadata": {
        "id": "Dz3LLciaIq4N"
      },
      "execution_count": 5,
      "outputs": []
    },
    {
      "cell_type": "code",
      "source": [
        "# --- 5. Save to SQLite Database ---\n",
        "def save_to_sqlite():\n",
        "    conn = sqlite3.connect(\"contacts.db\")\n",
        "    cursor = conn.cursor()\n",
        "    cursor.execute('''\n",
        "        CREATE TABLE IF NOT EXISTS contacts (\n",
        "            id INTEGER PRIMARY KEY,\n",
        "            name TEXT,\n",
        "            phone TEXT,\n",
        "            email TEXT\n",
        "        )\n",
        "    ''')\n",
        "    for contact in contacts:\n",
        "        cursor.execute(\"INSERT INTO contacts (name, phone, email) VALUES (?, ?, ?)\",\n",
        "                       (contact[\"name\"], contact[\"phone\"], contact[\"email\"]))\n",
        "    conn.commit()\n",
        "    conn.close()\n",
        "\n",
        "# --- Main Call ---\n",
        "if __name__ == \"__main__\":\n",
        "    save_to_txt()\n",
        "    save_to_csv()\n",
        "    save_to_json()\n",
        "    save_to_excel()\n",
        "    save_to_sqlite()\n",
        "    print(\"Contacts saved to all formats.\")"
      ],
      "metadata": {
        "colab": {
          "base_uri": "https://localhost:8080/"
        },
        "id": "Ncp5CJr_I-o1",
        "outputId": "b160ea46-9145-4c06-8422-372a18a35a2e"
      },
      "execution_count": 6,
      "outputs": [
        {
          "output_type": "stream",
          "name": "stdout",
          "text": [
            "Contacts saved to all formats.\n"
          ]
        }
      ]
    }
  ]
}